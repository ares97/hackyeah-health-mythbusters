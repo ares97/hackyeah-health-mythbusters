{
 "cells": [
  {
   "cell_type": "code",
   "execution_count": 27,
   "metadata": {},
   "outputs": [],
   "source": [
    "import pandas as pd"
   ]
  },
  {
   "cell_type": "code",
   "execution_count": 28,
   "metadata": {},
   "outputs": [],
   "source": [
    "df = pd.read_csv('data/rak/zachorowania.csv', delimiter=';')"
   ]
  },
  {
   "cell_type": "code",
   "execution_count": 29,
   "metadata": {},
   "outputs": [],
   "source": [
    "d = df.groupby(['Wojewodztwo', 'ICD10','Rok']).count()['Liczba'].reset_index()"
   ]
  },
  {
   "cell_type": "code",
   "execution_count": 31,
   "metadata": {},
   "outputs": [
    {
     "data": {
      "text/plain": [
       "Wojewodztwo  ICD10  Rok \n",
       "2            C00    1999    36\n",
       "                    2000    36\n",
       "                    2001    36\n",
       "                    2002    36\n",
       "                    2003    36\n",
       "                    2004    36\n",
       "                    2005    36\n",
       "                    2006    36\n",
       "                    2007    36\n",
       "                    2008    36\n",
       "                    2009    36\n",
       "                    2010    36\n",
       "                    2011    36\n",
       "                    2012    36\n",
       "                    2013    12\n",
       "                    2014    36\n",
       "                    2015    36\n",
       "             C01    1999    36\n",
       "                    2000    36\n",
       "                    2001    36\n",
       "                    2002    36\n",
       "                    2003    36\n",
       "                    2004    36\n",
       "                    2005    36\n",
       "                    2006    18\n",
       "                    2007    36\n",
       "                    2008    36\n",
       "                    2009    36\n",
       "                    2010    36\n",
       "                    2011    36\n",
       "                            ..\n",
       "32           D06    2007    18\n",
       "                    2008    18\n",
       "                    2009    18\n",
       "                    2010    18\n",
       "                    2011    18\n",
       "                    2012    18\n",
       "                    2013     8\n",
       "                    2014    18\n",
       "                    2015    36\n",
       "             D07    2003    36\n",
       "                    2004    18\n",
       "                    2005    36\n",
       "                    2006    36\n",
       "                    2007    18\n",
       "                    2009    18\n",
       "                    2010    18\n",
       "                    2011    18\n",
       "                    2012    36\n",
       "                    2013     1\n",
       "                    2014    18\n",
       "                    2015    36\n",
       "             D09    2003    18\n",
       "                    2004    36\n",
       "                    2005    36\n",
       "                    2010    18\n",
       "                    2011    18\n",
       "                    2012    36\n",
       "                    2013     1\n",
       "                    2014    18\n",
       "                    2015    36\n",
       "Name: Liczba, Length: 24284, dtype: int64"
      ]
     },
     "execution_count": 31,
     "metadata": {},
     "output_type": "execute_result"
    }
   ],
   "source": [
    "d"
   ]
  },
  {
   "cell_type": "code",
   "execution_count": null,
   "metadata": {},
   "outputs": [],
   "source": [
    "d."
   ]
  },
  {
   "cell_type": "code",
   "execution_count": null,
   "metadata": {},
   "outputs": [],
   "source": []
  }
 ],
 "metadata": {
  "kernelspec": {
   "display_name": "Python 3",
   "language": "python",
   "name": "python3"
  },
  "language_info": {
   "codemirror_mode": {
    "name": "ipython",
    "version": 3
   },
   "file_extension": ".py",
   "mimetype": "text/x-python",
   "name": "python",
   "nbconvert_exporter": "python",
   "pygments_lexer": "ipython3",
   "version": "3.6.6"
  }
 },
 "nbformat": 4,
 "nbformat_minor": 2
}
